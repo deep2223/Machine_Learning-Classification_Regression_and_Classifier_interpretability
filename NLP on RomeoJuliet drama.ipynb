{
 "cells": [
  {
   "cell_type": "markdown",
   "metadata": {},
   "source": [
    "# NLP using LSTM"
   ]
  },
  {
   "cell_type": "code",
   "execution_count": 2,
   "metadata": {},
   "outputs": [],
   "source": [
    "import tensorflow as tf\n",
    "from tensorflow.keras.preprocessing.text import Tokenizer\n",
    "from tensorflow.keras.preprocessing.sequence import pad_sequences\n",
    "from tensorflow.keras.layers import Embedding, LSTM, Dense, Flatten, Conv1D, GRU, Dropout, Bidirectional\n",
    "from tensorflow.keras.models import Sequential\n",
    "import pandas as pd\n",
    "import numpy as np"
   ]
  },
  {
   "cell_type": "markdown",
   "metadata": {},
   "source": [
    "# Preprocessing on Data\n",
    "# Reading emojis from the chat"
   ]
  },
  {
   "cell_type": "code",
   "execution_count": null,
   "metadata": {},
   "outputs": [],
   "source": []
  },
  {
   "cell_type": "code",
   "execution_count": 4,
   "metadata": {},
   "outputs": [
    {
     "name": "stdout",
     "output_type": "stream",
     "text": [
      "['two households, both alike in dignity,', 'in fair verona, where we lay our scene,', 'from ancient grudge break to new mutiny,', 'where civil blood makes civil hands unclean.', 'from forth the fatal loins of these two foes']\n"
     ]
    }
   ],
   "source": [
    "import sys\n",
    "#This will read emojis as well\n",
    "non_bmp_map = dict.fromkeys(range(0x10000, sys.maxunicode + 1), 0xfffd)\n",
    "\n",
    "data = open(\"E:/NLP in Tensorflow/RomeJulietExtract.txt\",encoding=\"unicode-escape\").read()\n",
    "corpus = data.lower().split(\"\\n\")\n",
    "corpus = corpus[1:]\n",
    "\n",
    "input_data = []\n",
    "i = 0\n",
    "for line in corpus:\n",
    "    text = line.translate(non_bmp_map)\n",
    "    input_data.append(line)\n",
    "#     if len(text.split(\"-\")) == 2:\n",
    "#         _,b = text.split(\"-\")\n",
    "#         if ((\"rp\" in b) & ((len(b.split(\":\")) == 2))):\n",
    "#             _,j = b.split(\":\")\n",
    "#             if (not \"media omitted\" in j):\n",
    "#                 input_data.append(j)\n",
    "len(input_data)\n",
    "print(input_data[:5])"
   ]
  },
  {
   "cell_type": "code",
   "execution_count": 5,
   "metadata": {},
   "outputs": [],
   "source": [
    "tokenizer = Tokenizer()\n",
    "tokenizer.fit_on_texts(input_data)\n",
    "total_words = len(tokenizer.word_index) + 1\n",
    "\n",
    "input_sentences = []\n",
    "for line in input_data:\n",
    "    token_list = tokenizer.texts_to_sequences([line])[0]\n",
    "    for i in range(1,len(token_list)):\n",
    "        n_gram = token_list[:i+1]\n",
    "        input_sentences.append(n_gram)\n",
    "        \n",
    "max_sequence_len = max([len(i) for i in input_sentences])\n",
    "input_sentences = np.array(pad_sequences(input_sentences, padding='pre', maxlen = max_sequence_len))\n",
    "\n",
    "training_data = input_sentences[:,:-1]\n",
    "labels = input_sentences[:,-1]\n",
    "\n",
    "training_labels = tf.keras.utils.to_categorical(labels, num_classes = total_words)"
   ]
  },
  {
   "cell_type": "code",
   "execution_count": 6,
   "metadata": {},
   "outputs": [],
   "source": [
    "from tensorflow.keras import regularizers\n",
    "\n",
    "model = Sequential()\n",
    "model.add(Embedding(total_words, 64, input_length=max_sequence_len-1))\n",
    "model.add(Bidirectional(LSTM(150,return_sequences = True)))\n",
    "model.add(Dropout(0.2))\n",
    "model.add(Bidirectional(LSTM(100)))\n",
    "model.add(Dense(total_words/2, activation='relu', kernel_regularizer=regularizers.l2(0.01)))\n",
    "model.add(Dense(total_words,activation='softmax'))\n",
    "model.compile(loss='categorical_crossentropy',optimizer='adam',metrics=['accuracy'])"
   ]
  },
  {
   "cell_type": "code",
   "execution_count": 7,
   "metadata": {},
   "outputs": [
    {
     "name": "stdout",
     "output_type": "stream",
     "text": [
      "Model: \"sequential\"\n",
      "_________________________________________________________________\n",
      "Layer (type)                 Output Shape              Param #   \n",
      "=================================================================\n",
      "embedding (Embedding)        (None, 15, 64)            23360     \n",
      "_________________________________________________________________\n",
      "bidirectional (Bidirectional (None, 15, 300)           258000    \n",
      "_________________________________________________________________\n",
      "dropout (Dropout)            (None, 15, 300)           0         \n",
      "_________________________________________________________________\n",
      "bidirectional_1 (Bidirection (None, 200)               320800    \n",
      "_________________________________________________________________\n",
      "dense (Dense)                (None, 182)               36582     \n",
      "_________________________________________________________________\n",
      "dense_1 (Dense)              (None, 365)               66795     \n",
      "=================================================================\n",
      "Total params: 705,537\n",
      "Trainable params: 705,537\n",
      "Non-trainable params: 0\n",
      "_________________________________________________________________\n",
      "None\n"
     ]
    }
   ],
   "source": [
    "print(model.summary())"
   ]
  },
  {
   "cell_type": "code",
   "execution_count": 8,
   "metadata": {},
   "outputs": [
    {
     "name": "stdout",
     "output_type": "stream",
     "text": [
      "Train on 805 samples\n",
      "Epoch 1/100\n",
      "805/805 [==============================] - 16s 20ms/sample - loss: 7.2352 - accuracy: 0.0373\n",
      "Epoch 2/100\n",
      "805/805 [==============================] - 3s 4ms/sample - loss: 6.3254 - accuracy: 0.0422\n",
      "Epoch 3/100\n",
      "805/805 [==============================] - 3s 4ms/sample - loss: 5.9210 - accuracy: 0.0398\n",
      "Epoch 4/100\n",
      "805/805 [==============================] - 3s 3ms/sample - loss: 5.6963 - accuracy: 0.0385\n",
      "Epoch 5/100\n",
      "805/805 [==============================] - 3s 4ms/sample - loss: 5.5725 - accuracy: 0.0360\n",
      "Epoch 6/100\n",
      "805/805 [==============================] - 3s 3ms/sample - loss: 5.4551 - accuracy: 0.0447\n",
      "Epoch 7/100\n",
      "805/805 [==============================] - 3s 3ms/sample - loss: 5.3019 - accuracy: 0.0348\n",
      "Epoch 8/100\n",
      "805/805 [==============================] - 3s 4ms/sample - loss: 5.1628 - accuracy: 0.0460\n",
      "Epoch 9/100\n",
      "805/805 [==============================] - 3s 4ms/sample - loss: 5.0664 - accuracy: 0.0422\n",
      "Epoch 10/100\n",
      "805/805 [==============================] - 3s 3ms/sample - loss: 5.0031 - accuracy: 0.0385\n",
      "Epoch 11/100\n",
      "805/805 [==============================] - 3s 3ms/sample - loss: 4.9445 - accuracy: 0.0460\n",
      "Epoch 12/100\n",
      "805/805 [==============================] - 3s 3ms/sample - loss: 4.8774 - accuracy: 0.0596\n",
      "Epoch 13/100\n",
      "805/805 [==============================] - 3s 3ms/sample - loss: 4.8311 - accuracy: 0.0484\n",
      "Epoch 14/100\n",
      "805/805 [==============================] - 3s 3ms/sample - loss: 4.7516 - accuracy: 0.0634\n",
      "Epoch 15/100\n",
      "805/805 [==============================] - 3s 3ms/sample - loss: 4.7194 - accuracy: 0.0621\n",
      "Epoch 16/100\n",
      "805/805 [==============================] - 3s 3ms/sample - loss: 4.6340 - accuracy: 0.0708\n",
      "Epoch 17/100\n",
      "805/805 [==============================] - 3s 3ms/sample - loss: 4.5773 - accuracy: 0.0733\n",
      "Epoch 18/100\n",
      "805/805 [==============================] - 3s 3ms/sample - loss: 4.5209 - accuracy: 0.0820\n",
      "Epoch 19/100\n",
      "805/805 [==============================] - 3s 3ms/sample - loss: 4.4566 - accuracy: 0.0720\n",
      "Epoch 20/100\n",
      "805/805 [==============================] - 3s 3ms/sample - loss: 4.4053 - accuracy: 0.0882\n",
      "Epoch 21/100\n",
      "805/805 [==============================] - 3s 3ms/sample - loss: 4.3839 - accuracy: 0.0807\n",
      "Epoch 22/100\n",
      "805/805 [==============================] - 3s 3ms/sample - loss: 4.3251 - accuracy: 0.0870\n",
      "Epoch 23/100\n",
      "805/805 [==============================] - 3s 3ms/sample - loss: 4.2888 - accuracy: 0.0832\n",
      "Epoch 24/100\n",
      "805/805 [==============================] - 3s 3ms/sample - loss: 4.2520 - accuracy: 0.0969\n",
      "Epoch 25/100\n",
      "805/805 [==============================] - 3s 3ms/sample - loss: 4.2065 - accuracy: 0.0957\n",
      "Epoch 26/100\n",
      "805/805 [==============================] - 3s 3ms/sample - loss: 4.1897 - accuracy: 0.1006\n",
      "Epoch 27/100\n",
      "805/805 [==============================] - 3s 3ms/sample - loss: 4.1364 - accuracy: 0.0981\n",
      "Epoch 28/100\n",
      "805/805 [==============================] - 3s 3ms/sample - loss: 4.1770 - accuracy: 0.0932\n",
      "Epoch 29/100\n",
      "805/805 [==============================] - 3s 3ms/sample - loss: 4.1224 - accuracy: 0.0981\n",
      "Epoch 30/100\n",
      "805/805 [==============================] - 3s 3ms/sample - loss: 4.0862 - accuracy: 0.0944\n",
      "Epoch 31/100\n",
      "805/805 [==============================] - 3s 3ms/sample - loss: 4.0502 - accuracy: 0.1043\n",
      "Epoch 32/100\n",
      "805/805 [==============================] - 3s 3ms/sample - loss: 3.9927 - accuracy: 0.1056\n",
      "Epoch 33/100\n",
      "805/805 [==============================] - 3s 3ms/sample - loss: 3.9491 - accuracy: 0.1081\n",
      "Epoch 34/100\n",
      "805/805 [==============================] - 3s 3ms/sample - loss: 3.9212 - accuracy: 0.1143\n",
      "Epoch 35/100\n",
      "805/805 [==============================] - 3s 3ms/sample - loss: 3.9223 - accuracy: 0.1056\n",
      "Epoch 36/100\n",
      "805/805 [==============================] - 3s 3ms/sample - loss: 3.8929 - accuracy: 0.1242\n",
      "Epoch 37/100\n",
      "805/805 [==============================] - 3s 3ms/sample - loss: 3.8851 - accuracy: 0.1006\n",
      "Epoch 38/100\n",
      "805/805 [==============================] - 3s 3ms/sample - loss: 3.9324 - accuracy: 0.1155\n",
      "Epoch 39/100\n",
      "805/805 [==============================] - 3s 3ms/sample - loss: 3.9205 - accuracy: 0.1193\n",
      "Epoch 40/100\n",
      "805/805 [==============================] - 3s 3ms/sample - loss: 3.8473 - accuracy: 0.1155\n",
      "Epoch 41/100\n",
      "805/805 [==============================] - 3s 3ms/sample - loss: 3.8732 - accuracy: 0.1193\n",
      "Epoch 42/100\n",
      "805/805 [==============================] - 3s 3ms/sample - loss: 3.8183 - accuracy: 0.1155\n",
      "Epoch 43/100\n",
      "805/805 [==============================] - 3s 3ms/sample - loss: 3.8211 - accuracy: 0.1354\n",
      "Epoch 44/100\n",
      "805/805 [==============================] - 3s 3ms/sample - loss: 3.8130 - accuracy: 0.1155\n",
      "Epoch 45/100\n",
      "805/805 [==============================] - 3s 3ms/sample - loss: 3.7673 - accuracy: 0.1255\n",
      "Epoch 46/100\n",
      "805/805 [==============================] - 3s 3ms/sample - loss: 3.7137 - accuracy: 0.1366\n",
      "Epoch 47/100\n",
      "805/805 [==============================] - 3s 3ms/sample - loss: 3.6771 - accuracy: 0.1379\n",
      "Epoch 48/100\n",
      "805/805 [==============================] - 3s 3ms/sample - loss: 3.6929 - accuracy: 0.1242\n",
      "Epoch 49/100\n",
      "805/805 [==============================] - 3s 3ms/sample - loss: 3.6696 - accuracy: 0.1441\n",
      "Epoch 50/100\n",
      "805/805 [==============================] - 3s 3ms/sample - loss: 3.6789 - accuracy: 0.1404\n",
      "Epoch 51/100\n",
      "805/805 [==============================] - 3s 3ms/sample - loss: 3.6510 - accuracy: 0.1379\n",
      "Epoch 52/100\n",
      "805/805 [==============================] - 2s 3ms/sample - loss: 3.5971 - accuracy: 0.1540\n",
      "Epoch 53/100\n",
      "805/805 [==============================] - 3s 3ms/sample - loss: 3.5638 - accuracy: 0.1441\n",
      "Epoch 54/100\n",
      "805/805 [==============================] - 3s 3ms/sample - loss: 3.5719 - accuracy: 0.1466\n",
      "Epoch 55/100\n",
      "805/805 [==============================] - 3s 3ms/sample - loss: 3.5388 - accuracy: 0.1528\n",
      "Epoch 56/100\n",
      "805/805 [==============================] - 3s 3ms/sample - loss: 3.5223 - accuracy: 0.1528\n",
      "Epoch 57/100\n",
      "805/805 [==============================] - 3s 3ms/sample - loss: 3.4871 - accuracy: 0.1466\n",
      "Epoch 58/100\n",
      "805/805 [==============================] - 3s 3ms/sample - loss: 3.4995 - accuracy: 0.1590\n",
      "Epoch 59/100\n",
      "805/805 [==============================] - 3s 4ms/sample - loss: 3.4902 - accuracy: 0.1478\n",
      "Epoch 60/100\n",
      "805/805 [==============================] - 3s 4ms/sample - loss: 3.4460 - accuracy: 0.1640\n",
      "Epoch 61/100\n",
      "805/805 [==============================] - 3s 4ms/sample - loss: 3.4895 - accuracy: 0.1540\n",
      "Epoch 62/100\n",
      "805/805 [==============================] - 3s 3ms/sample - loss: 3.4199 - accuracy: 0.1640\n",
      "Epoch 63/100\n",
      "805/805 [==============================] - 3s 3ms/sample - loss: 3.4111 - accuracy: 0.1789\n",
      "Epoch 64/100\n",
      "805/805 [==============================] - 3s 3ms/sample - loss: 3.7425 - accuracy: 0.1441\n",
      "Epoch 65/100\n",
      "805/805 [==============================] - 3s 3ms/sample - loss: 3.5704 - accuracy: 0.1441\n",
      "Epoch 66/100\n",
      "805/805 [==============================] - 3s 3ms/sample - loss: 3.4399 - accuracy: 0.1553\n",
      "Epoch 67/100\n",
      "805/805 [==============================] - 3s 3ms/sample - loss: 3.3581 - accuracy: 0.1739\n",
      "Epoch 68/100\n",
      "805/805 [==============================] - 3s 3ms/sample - loss: 3.3544 - accuracy: 0.1727\n",
      "Epoch 69/100\n",
      "805/805 [==============================] - 3s 3ms/sample - loss: 3.4005 - accuracy: 0.1677\n",
      "Epoch 70/100\n",
      "805/805 [==============================] - 3s 3ms/sample - loss: 3.3677 - accuracy: 0.1714\n",
      "Epoch 71/100\n",
      "805/805 [==============================] - 3s 3ms/sample - loss: 3.2681 - accuracy: 0.1963\n",
      "Epoch 72/100\n",
      "805/805 [==============================] - 3s 3ms/sample - loss: 3.2143 - accuracy: 0.1876\n",
      "Epoch 73/100\n",
      "805/805 [==============================] - 3s 3ms/sample - loss: 3.1917 - accuracy: 0.1988\n",
      "Epoch 74/100\n",
      "805/805 [==============================] - 3s 3ms/sample - loss: 3.1681 - accuracy: 0.1913\n",
      "Epoch 75/100\n",
      "805/805 [==============================] - 3s 3ms/sample - loss: 3.1519 - accuracy: 0.2112\n",
      "Epoch 76/100\n",
      "805/805 [==============================] - 3s 3ms/sample - loss: 3.1496 - accuracy: 0.2050\n",
      "Epoch 77/100\n",
      "805/805 [==============================] - 2s 3ms/sample - loss: 3.0948 - accuracy: 0.2037\n",
      "Epoch 78/100\n",
      "805/805 [==============================] - 3s 3ms/sample - loss: 3.1635 - accuracy: 0.2025\n",
      "Epoch 79/100\n",
      "805/805 [==============================] - 3s 3ms/sample - loss: 3.0915 - accuracy: 0.2311\n",
      "Epoch 80/100\n",
      "805/805 [==============================] - 3s 3ms/sample - loss: 3.0300 - accuracy: 0.2261\n",
      "Epoch 81/100\n",
      "805/805 [==============================] - 3s 3ms/sample - loss: 2.9716 - accuracy: 0.2360\n",
      "Epoch 82/100\n",
      "805/805 [==============================] - 3s 3ms/sample - loss: 2.9995 - accuracy: 0.2273\n",
      "Epoch 83/100\n",
      "805/805 [==============================] - 3s 3ms/sample - loss: 2.9823 - accuracy: 0.2422\n",
      "Epoch 84/100\n",
      "805/805 [==============================] - 3s 3ms/sample - loss: 2.9632 - accuracy: 0.2311\n",
      "Epoch 85/100\n",
      "805/805 [==============================] - 3s 3ms/sample - loss: 2.9293 - accuracy: 0.2547\n",
      "Epoch 86/100\n",
      "805/805 [==============================] - 3s 3ms/sample - loss: 2.9481 - accuracy: 0.2348\n",
      "Epoch 87/100\n",
      "805/805 [==============================] - 3s 3ms/sample - loss: 2.9306 - accuracy: 0.2621\n",
      "Epoch 88/100\n",
      "805/805 [==============================] - 3s 3ms/sample - loss: 2.8976 - accuracy: 0.2534\n",
      "Epoch 89/100\n",
      "805/805 [==============================] - 3s 3ms/sample - loss: 2.8515 - accuracy: 0.2733\n",
      "Epoch 90/100\n",
      "805/805 [==============================] - 3s 3ms/sample - loss: 2.8085 - accuracy: 0.2795\n",
      "Epoch 91/100\n",
      "805/805 [==============================] - 3s 3ms/sample - loss: 2.8074 - accuracy: 0.2770\n",
      "Epoch 92/100\n",
      "805/805 [==============================] - 3s 3ms/sample - loss: 2.8070 - accuracy: 0.2783\n",
      "Epoch 93/100\n",
      "805/805 [==============================] - 3s 3ms/sample - loss: 2.7914 - accuracy: 0.2820\n",
      "Epoch 94/100\n",
      "805/805 [==============================] - 3s 3ms/sample - loss: 2.7293 - accuracy: 0.3155\n",
      "Epoch 95/100\n",
      "805/805 [==============================] - 3s 3ms/sample - loss: 2.6885 - accuracy: 0.2957\n",
      "Epoch 96/100\n",
      "805/805 [==============================] - 3s 3ms/sample - loss: 2.6929 - accuracy: 0.3043\n",
      "Epoch 97/100\n",
      "805/805 [==============================] - 3s 3ms/sample - loss: 2.6767 - accuracy: 0.3280\n",
      "Epoch 98/100\n",
      "805/805 [==============================] - 3s 3ms/sample - loss: 2.6026 - accuracy: 0.3230\n",
      "Epoch 99/100\n",
      "805/805 [==============================] - 3s 3ms/sample - loss: 2.5482 - accuracy: 0.3404\n",
      "Epoch 100/100\n",
      "805/805 [==============================] - 3s 3ms/sample - loss: 2.5624 - accuracy: 0.3528\n"
     ]
    }
   ],
   "source": [
    "history = model.fit(training_data, training_labels, epochs = 100)"
   ]
  },
  {
   "cell_type": "code",
   "execution_count": 10,
   "metadata": {},
   "outputs": [
    {
     "data": {
      "image/png": "[encoded data removed]",
      "text/plain": [
       "<Figure size 432x288 with 1 Axes>"
      ]
     },
     "metadata": {
      "needs_background": "light"
     },
     "output_type": "display_data"
    },
    {
     "data": {
      "image/png": "[encoded data removed]",
      "text/plain": [
       "<Figure size 432x288 with 1 Axes>"
      ]
     },
     "metadata": {
      "needs_background": "light"
     },
     "output_type": "display_data"
    }
   ],
   "source": [
    "import matplotlib.pyplot as plt\n",
    "\n",
    "acc = history.history['accuracy']\n",
    "loss = history.history['loss']\n",
    "epochs = range(len(acc))\n",
    "\n",
    "plt.plot(epochs, acc, 'b', label='Training accuracy')\n",
    "plt.title(\"Training accuracy\")\n",
    "plt.figure()\n",
    "\n",
    "plt.plot(epochs, loss, 'b', label='Training loss')\n",
    "plt.title('Training loss')\n",
    "plt.legend()\n",
    "\n",
    "plt.show()"
   ]
  },
  {
   "cell_type": "code",
   "execution_count": 19,
   "metadata": {},
   "outputs": [
    {
     "name": "stdout",
     "output_type": "stream",
     "text": [
      "Two households, both alike in dignity makes hands shall\n"
     ]
    }
   ],
   "source": [
    "seed_text = \"Two households, both alike\"\n",
    "next_words = 10\n",
    "  \n",
    "for _ in range(next_words):\n",
    "    token_list = tokenizer.texts_to_sequences([seed_text])[0]\n",
    "    token_list = pad_sequences([token_list], maxlen=max_sequence_len-1,padding='pre')\n",
    "    predicted = model.predict_classes(token_list, verbose=0)\n",
    "    output_word = \"\"\n",
    "    for word, index in tokenizer.word_index.items():\n",
    "        if index == predicted:\n",
    "            output_word = word\n",
    "            break\n",
    "    if output_word not in seed_text:\n",
    "        seed_text += \" \" + output_word\n",
    "print(seed_text)"
   ]
  },
  {
   "cell_type": "code",
   "execution_count": null,
   "metadata": {},
   "outputs": [],
   "source": [
    "model.save_model('novelty_component.hdf5')"
   ]
  },
  {
   "cell_type": "code",
   "execution_count": null,
   "metadata": {},
   "outputs": [],
   "source": []
  }
 ],
 "metadata": {
  "kernelspec": {
   "display_name": "Python 3",
   "language": "python",
   "name": "python3"
  },
  "language_info": {
   "codemirror_mode": {
    "name": "ipython",
    "version": 3
   },
   "file_extension": ".py",
   "mimetype": "text/x-python",
   "name": "python",
   "nbconvert_exporter": "python",
   "pygments_lexer": "ipython3",
   "version": "3.7.3"
  }
 },
 "nbformat": 4,
 "nbformat_minor": 2
}
